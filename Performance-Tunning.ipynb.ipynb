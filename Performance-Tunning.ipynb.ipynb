import numpy as np
import pandas as pd
import seaborn as sns
from sklearn.model_selection import train_test_split
from sklearn.tree import DecisionTreeRegressor
from sklearn.metrics import r2_score,mean_squared_error
from sklearn.model_selection import cross_val_score
from sklearn.model_selection import KFold
from sklearn.model_selection import GridSearchCV
import pickle
from sklearn.svm import SVC
from sklearn import svm
from sklearn.svm import SVR
from sklearn.model_selection import cross_validate
df = pd.read_csv('INFLUXDB2.csv')
df.head()
#from sklearn.svm import SVR
#regr1 = SVR(kernel = 'rbf',gamma=0.1, C=1e4)
X= df[['influxdb_httpd_writeReqBytes', 'influxdb_httpd_writeReq','influxdb_httpd_writeReqDurationNs','influxdb_shard_diskBytes']].values
y5 = df['influxdb_diskBytes']
from sklearn.model_selection import train_test_split
X_train, X_test, y5_train, y5_test = train_test_split(X, y5, test_size = 0.20,random_state=1)
parameters = {'kernel': ['rbf'], 'C':[0.001,0.005,0.1, 1, 10,100,1000,10000,100000],'gamma': [1e-4, 1e-3, 0.01, 0.1, 0.2, 0.5, 0.6, 0.9],'epsilon':[0.0001, 0.0005, 0.001, 0.005, 0.01, 0.05, 0.1, 0.3, 0.5, 1, 5, 10]}
svr = svm.SVR()
#scoring=('r2', 'metrics.root_mean_squared_error')
print("Tuning hyper-parameters")
cv = GridSearchCV(svr, parameters, verbose=2, cv=5)
cv.fit(X,y5)
#cv_results = cross_validate(svr, X, y5,scoring=scoring, return_train_score=True)
#print (cv_results)
print(cv.best_params_)